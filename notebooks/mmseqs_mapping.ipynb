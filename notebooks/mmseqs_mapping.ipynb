{
 "cells": [
  {
   "cell_type": "markdown",
   "id": "42f2d7c4",
   "metadata": {},
   "source": [
    "This notebook contains code related to an investigation on mmseqs2's Neff scores."
   ]
  },
  {
   "cell_type": "code",
   "execution_count": 1,
   "id": "486afd58",
   "metadata": {},
   "outputs": [],
   "source": [
    "%load_ext autoreload\n",
    "%autoreload 2"
   ]
  },
  {
   "cell_type": "code",
   "execution_count": 2,
   "id": "1da5d15b",
   "metadata": {},
   "outputs": [],
   "source": [
    "import numpy as np\n",
    "import torch\n",
    "import torch.nn.functional as F\n",
    "from af22c import neff\n",
    "from af22c.mmseqs import mmseqs_neff_from_a3m\n",
    "from af22c.msa import EncMsa\n",
    "from af22c.scores import pwseq\n",
    "import matplotlib.pyplot as plt"
   ]
  },
  {
   "cell_type": "code",
   "execution_count": 78,
   "id": "61e6e072",
   "metadata": {},
   "outputs": [],
   "source": [
    "mmseqs = \"/home/johannes/uni/idp/MMseqs2/cmake-build-debug/src/mmseqs\"\n",
    "MSA_PATH = \"../data/Q9AAS4.a3m\"\n",
    "MSA_PATH = \"/home/johannes/uni/idp/MMseqs2/test/mini.a3m\""
   ]
  },
  {
   "cell_type": "code",
   "execution_count": 79,
   "id": "b3b3e0af",
   "metadata": {},
   "outputs": [],
   "source": [
    "mmseqs_scores = mmseqs_neff_from_a3m(MSA_PATH,mmseqs)"
   ]
  },
  {
   "cell_type": "code",
   "execution_count": 80,
   "id": "bbc903f8",
   "metadata": {},
   "outputs": [],
   "source": [
    "msa = EncMsa.from_thing(MSA_PATH)"
   ]
  },
  {
   "cell_type": "code",
   "execution_count": 81,
   "id": "e65c46de",
   "metadata": {},
   "outputs": [],
   "source": [
    "M = F.one_hot(msa.data.long(), len(msa.vocab))"
   ]
  },
  {
   "cell_type": "code",
   "execution_count": 82,
   "id": "702ddad8",
   "metadata": {},
   "outputs": [
    {
     "name": "stderr",
     "output_type": "stream",
     "text": [
      "running batches: 2it [00:00, 19.94it/s]                                                                  \n"
     ]
    },
    {
     "data": {
      "text/plain": [
       "tensor([1., 1., 1., 1.])"
      ]
     },
     "execution_count": 82,
     "metadata": {},
     "output_type": "execute_result"
    }
   ],
   "source": [
    "# NB: this is not Heinkoff weighting, but seqid weighting!\n",
    "w = 1 / torch.sum(pwseq(msa, verbose=1) >= .8, dim=0); w"
   ]
  },
  {
   "cell_type": "code",
   "execution_count": 83,
   "id": "1f211f0b",
   "metadata": {},
   "outputs": [],
   "source": [
    "f = torch.einsum(\"i,ijk->jk\", w.long(), M)"
   ]
  },
  {
   "cell_type": "code",
   "execution_count": 84,
   "id": "24838f31",
   "metadata": {},
   "outputs": [],
   "source": [
    "nf = f / f.sum(dim=1).view(-1,1) + 1e-4 # TODO: find out whether +1 is ok"
   ]
  },
  {
   "cell_type": "code",
   "execution_count": 85,
   "id": "bf02548d",
   "metadata": {},
   "outputs": [
    {
     "data": {
      "text/plain": [
       "torch.Size([8, 22])"
      ]
     },
     "execution_count": 85,
     "metadata": {},
     "output_type": "execute_result"
    }
   ],
   "source": [
    "nf.shape"
   ]
  },
  {
   "cell_type": "code",
   "execution_count": 86,
   "id": "dcb96bfb",
   "metadata": {},
   "outputs": [],
   "source": [
    "neff = 2 ** (-(nf * nf.log2()).sum(1) / msa.data.shape[1])"
   ]
  },
  {
   "cell_type": "code",
   "execution_count": 88,
   "id": "4515cd94",
   "metadata": {},
   "outputs": [
    {
     "data": {
      "image/png": "[encoded data removed]",
      "text/plain": [
       "<Figure size 600x200 with 1 Axes>"
      ]
     },
     "metadata": {},
     "output_type": "display_data"
    }
   ],
   "source": [
    "plt.figure(figsize=(6,2))\n",
    "plt.plot(mmseqs_scores,label=\"Neff mmseqs\")\n",
    "plt.plot(neff,label=\"pseudo Neff mmseqs\")\n",
    "plt.legend();"
   ]
  },
  {
   "cell_type": "code",
   "execution_count": null,
   "id": "f1f20659",
   "metadata": {},
   "outputs": [],
   "source": []
  }
 ],
 "metadata": {
  "kernelspec": {
   "display_name": "Python 3 (ipykernel)",
   "language": "python",
   "name": "python3"
  },
  "language_info": {
   "codemirror_mode": {
    "name": "ipython",
    "version": 3
   },
   "file_extension": ".py",
   "mimetype": "text/x-python",
   "name": "python",
   "nbconvert_exporter": "python",
   "pygments_lexer": "ipython3",
   "version": "3.10.4"
  }
 },
 "nbformat": 4,
 "nbformat_minor": 5
}
