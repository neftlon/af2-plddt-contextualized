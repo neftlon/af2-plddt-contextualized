{
 "cells": [
  {
   "cell_type": "markdown",
   "id": "42f2d7c4",
   "metadata": {},
   "source": [
    "This notebook contains code related to an investigation on mmseqs2's Neff scores."
   ]
  },
  {
   "cell_type": "code",
   "execution_count": 1,
   "id": "486afd58",
   "metadata": {},
   "outputs": [],
   "source": [
    "%load_ext autoreload\n",
    "%autoreload 2"
   ]
  },
  {
   "cell_type": "code",
   "execution_count": 2,
   "id": "1da5d15b",
   "metadata": {},
   "outputs": [],
   "source": [
    "import numpy as np\n",
    "import torch\n",
    "import torch.nn.functional as F\n",
    "from af22c import neff\n",
    "from af22c.mmseqs import mmseqs_neff_from_a3m\n",
    "from af22c.msa import EncMsa\n",
    "from af22c.scores import pwseq, identity_seq_weights, henikoff_seq_weights\n",
    "import matplotlib.pyplot as plt"
   ]
  },
  {
   "cell_type": "code",
   "execution_count": 121,
   "id": "61e6e072",
   "metadata": {},
   "outputs": [],
   "source": [
    "mmseqs = \"/home/johannes/work/MMseqs2/cmake-build-debug/src/mmseqs\"\n",
    "#MSA_PATH = \"../data/Q9A7K5.a3m\"\n",
    "MSA_PATH = \"/home/johannes/work/MMseqs2/test/mini.a3m\""
   ]
  },
  {
   "cell_type": "code",
   "execution_count": 122,
   "id": "b3b3e0af",
   "metadata": {},
   "outputs": [],
   "source": [
    "mmseqs_scores = {\n",
    "  k: mmseqs_neff_from_a3m(\n",
    "    MSA_PATH, mmseqs, {\"msa2profile\": k}\n",
    "  )\n",
    "  for k in [\"--wg 0\", \"--wg 1\"]\n",
    "}"
   ]
  },
  {
   "cell_type": "code",
   "execution_count": 123,
   "id": "bbc903f8",
   "metadata": {},
   "outputs": [],
   "source": [
    "msa = EncMsa.from_thing(MSA_PATH)"
   ]
  },
  {
   "cell_type": "code",
   "execution_count": 124,
   "id": "e65c46de",
   "metadata": {},
   "outputs": [
    {
     "data": {
      "text/plain": [
       "torch.Size([5, 8, 21])"
      ]
     },
     "execution_count": 124,
     "metadata": {},
     "output_type": "execute_result"
    }
   ],
   "source": [
    "assert msa.stoi['-'] == 0, \"gaptoken must occur at position 0\"\n",
    "M = F.one_hot(msa.data.long(), len(msa.vocab))[:,:,1:]; M.shape"
   ]
  },
  {
   "cell_type": "code",
   "execution_count": 125,
   "id": "702ddad8",
   "metadata": {},
   "outputs": [
    {
     "name": "stderr",
     "output_type": "stream",
     "text": [
      "count seqs with AA: 100%|██████████████████████| 8/8 [00:00<00:00, 10601.72it/s]\n",
      "calc weights: 100%|█████████████████████████████| 5/5 [00:00<00:00, 5725.23it/s]\n"
     ]
    },
    {
     "data": {
      "text/plain": [
       "tensor([0.6250, 0.0625, 0.0625, 0.1458, 0.1042])"
      ]
     },
     "execution_count": 125,
     "metadata": {},
     "output_type": "execute_result"
    }
   ],
   "source": [
    "# NB: this is not Heinkoff weighting, but seqid weighting!\n",
    "w_henikoff = henikoff_seq_weights(msa, flavor=\"vanilla\", verbose=1); w_henikoff"
   ]
  },
  {
   "cell_type": "code",
   "execution_count": 126,
   "id": "ff720bba",
   "metadata": {},
   "outputs": [
    {
     "name": "stderr",
     "output_type": "stream",
     "text": [
      "count seqs with AA: 100%|██████████████████████| 8/8 [00:00<00:00, 11936.83it/s]\n",
      "calc weights: 100%|█████████████████████████████| 5/5 [00:00<00:00, 3806.08it/s]\n"
     ]
    },
    {
     "data": {
      "text/plain": [
       "tensor([0.5868, 0.0697, 0.0697, 0.1577, 0.1161])"
      ]
     },
     "execution_count": 126,
     "metadata": {},
     "output_type": "execute_result"
    }
   ],
   "source": [
    "# NB: this is not Heinkoff weighting, but seqid weighting!\n",
    "w_mmseqs = henikoff_seq_weights(msa, flavor=\"mmseqs\", verbose=1); w_mmseqs"
   ]
  },
  {
   "cell_type": "code",
   "execution_count": 127,
   "id": "f82d16e7",
   "metadata": {},
   "outputs": [
    {
     "data": {
      "text/plain": [
       "<matplotlib.legend.Legend at 0x7fc5c7f57ca0>"
      ]
     },
     "execution_count": 127,
     "metadata": {},
     "output_type": "execute_result"
    },
    {
     "data": {
      "image/png": "[encoded data removed]",
      "text/plain": [
       "<Figure size 1200x300 with 1 Axes>"
      ]
     },
     "metadata": {},
     "output_type": "display_data"
    }
   ],
   "source": [
    "plt.figure(figsize=(12,3))\n",
    "plt.plot(w_henikoff, label=\"weights henikoff\")\n",
    "plt.plot(w_mmseqs,label=\"weights mmseqs\")\n",
    "plt.legend()"
   ]
  },
  {
   "cell_type": "code",
   "execution_count": 128,
   "id": "1f211f0b",
   "metadata": {},
   "outputs": [],
   "source": [
    "f = torch.einsum(\"i,ijk->jk\", w_mmseqs, M.float())"
   ]
  },
  {
   "cell_type": "code",
   "execution_count": 129,
   "id": "18aff475",
   "metadata": {},
   "outputs": [
    {
     "data": {
      "text/plain": [
       "torch.Size([8, 21])"
      ]
     },
     "execution_count": 129,
     "metadata": {},
     "output_type": "execute_result"
    }
   ],
   "source": [
    "f.shape"
   ]
  },
  {
   "cell_type": "code",
   "execution_count": 130,
   "id": "24838f31",
   "metadata": {},
   "outputs": [],
   "source": [
    "# normalized f\n",
    "nf = f / f.sum(1,keepdim=True)"
   ]
  },
  {
   "cell_type": "code",
   "execution_count": 131,
   "id": "dcb96bfb",
   "metadata": {},
   "outputs": [
    {
     "data": {
      "text/plain": [
       "tensor([1.0000, 1.0000, 1.0263, 1.0400, 1.0216, 1.0249, 1.0249, 1.0000])"
      ]
     },
     "execution_count": 131,
     "metadata": {},
     "output_type": "execute_result"
    }
   ],
   "source": [
    "nonzero_nf = torch.where(nf > 1e-10, nf, 1.) # number taken from mmseqs PSSMCalculator.cpp#546\n",
    "neff = 2 ** (-(nonzero_nf * nonzero_nf.log2()).mean(1)); neff"
   ]
  },
  {
   "cell_type": "code",
   "execution_count": 207,
   "id": "4515cd94",
   "metadata": {},
   "outputs": [
    {
     "data": {
      "image/png": "[encoded data removed]",
      "text/plain": [
       "<Figure size 600x200 with 1 Axes>"
      ]
     },
     "metadata": {},
     "output_type": "display_data"
    }
   ],
   "source": [
    "plt.figure(figsize=(6,2))\n",
    "for k, v in mmseqs_scores.items():\n",
    "  plt.plot(v,label=\"Neff mmseqs \" + k)\n",
    "plt.plot(neff,label=\"pseudo Neff mmseqs\")\n",
    "#plt.plot(10 ** neff,label=\"10 ** pseudo Neff mmseqs\")\n",
    "plt.legend();"
   ]
  },
  {
   "cell_type": "code",
   "execution_count": 133,
   "id": "e4548485",
   "metadata": {},
   "outputs": [
    {
     "data": {
      "text/plain": [
       "tensor(1.2881)"
      ]
     },
     "execution_count": 133,
     "metadata": {},
     "output_type": "execute_result"
    }
   ],
   "source": [
    "10 - 9 * (2 ** (w_mmseqs[0] * -.08))"
   ]
  },
  {
   "cell_type": "code",
   "execution_count": 136,
   "id": "bb9e6684",
   "metadata": {},
   "outputs": [
    {
     "data": {
      "text/plain": [
       "tensor(0.3868)"
      ]
     },
     "execution_count": 136,
     "metadata": {},
     "output_type": "execute_result"
    }
   ],
   "source": [
    "w_mmseqs[0] - 1/5"
   ]
  },
  {
   "cell_type": "code",
   "execution_count": 140,
   "id": "056b18c6",
   "metadata": {},
   "outputs": [
    {
     "data": {
      "text/plain": [
       "tensor([14, 19,  4, 14,  0], dtype=torch.uint8)"
      ]
     },
     "execution_count": 140,
     "metadata": {},
     "output_type": "execute_result"
    }
   ],
   "source": [
    "msa.data[:,2]"
   ]
  },
  {
   "cell_type": "code",
   "execution_count": 149,
   "id": "ff6a912a",
   "metadata": {},
   "outputs": [
    {
     "data": {
      "text/plain": [
       "tensor([0.0000, 0.0000, 0.0000, 0.0788, 0.0000, 0.0000, 0.0000, 0.0000, 0.0000,\n",
       "        0.0000, 0.0000, 0.0000, 0.0000, 0.8423, 0.0000, 0.0000, 0.0000, 0.0000,\n",
       "        0.0788, 0.0000, 0.0000])"
      ]
     },
     "execution_count": 149,
     "metadata": {},
     "output_type": "execute_result"
    }
   ],
   "source": [
    "nf[2]"
   ]
  },
  {
   "cell_type": "code",
   "execution_count": 150,
   "id": "c0039a19",
   "metadata": {},
   "outputs": [
    {
     "data": {
      "text/plain": [
       "tensor([0.0000, 0.0000, 0.0000, 0.1655, 0.0000, 0.0000, 0.0000, 0.0000, 0.0000,\n",
       "        0.0000, 0.0000, 0.0000, 0.0000, 0.1379, 0.0000, 0.0000, 0.0000, 0.0000,\n",
       "        0.6967, 0.0000, 0.0000])"
      ]
     },
     "execution_count": 150,
     "metadata": {},
     "output_type": "execute_result"
    }
   ],
   "source": [
    "nf[3]"
   ]
  },
  {
   "cell_type": "code",
   "execution_count": 184,
   "id": "03b73514",
   "metadata": {},
   "outputs": [],
   "source": [
    "nonzero_nf = torch.where(nf > 1e-10, nf, torch.tensor(1))"
   ]
  },
  {
   "cell_type": "code",
   "execution_count": 186,
   "id": "c84981b3",
   "metadata": {},
   "outputs": [],
   "source": [
    "neff_M2 = -(nonzero_nf[2] * nonzero_nf[2].log2()).sum()"
   ]
  },
  {
   "cell_type": "code",
   "execution_count": 187,
   "id": "2ad685ae",
   "metadata": {},
   "outputs": [],
   "source": [
    "neff_M3 = -(nonzero_nf[3] * nonzero_nf[3].log2()).sum()"
   ]
  },
  {
   "cell_type": "code",
   "execution_count": 190,
   "id": "8926b53e",
   "metadata": {},
   "outputs": [
    {
     "data": {
      "text/plain": [
       "(tensor(0.7864), tensor(1.1869), tensor(1.9733))"
      ]
     },
     "execution_count": 190,
     "metadata": {},
     "output_type": "execute_result"
    }
   ],
   "source": [
    "neff_M2,neff_M3,neff_M2 + neff_M3"
   ]
  },
  {
   "cell_type": "code",
   "execution_count": 174,
   "id": "08fb9311",
   "metadata": {},
   "outputs": [
    {
     "data": {
      "text/plain": [
       "tensor([[ 0.0000,  0.0000,  0.0000,  0.0000,  0.0000,  0.0000,  0.0000,  0.0000,\n",
       "          0.0000,  0.0000,  0.0000,  0.0000,  0.0000,  0.0000,  0.0000,  0.0000,\n",
       "          0.0000,  0.0000,  0.0000,  0.0000,  0.0000],\n",
       "        [ 0.0000,  0.0000,  0.0000,  0.0000,  0.0000,  0.0000,  0.0000,  0.0000,\n",
       "          0.0000,  0.0000,  0.0000,  0.0000,  0.0000,  0.0000,  0.0000,  0.0000,\n",
       "          0.0000,  0.0000,  0.0000,  0.0000,  0.0000],\n",
       "        [ 0.0000,  0.0000,  0.0000, -3.6649,  0.0000,  0.0000,  0.0000,  0.0000,\n",
       "          0.0000,  0.0000,  0.0000,  0.0000,  0.0000, -0.2476,  0.0000,  0.0000,\n",
       "          0.0000,  0.0000, -3.6649,  0.0000,  0.0000],\n",
       "        [ 0.0000,  0.0000,  0.0000, -2.5955,  0.0000,  0.0000,  0.0000,  0.0000,\n",
       "          0.0000,  0.0000,  0.0000,  0.0000,  0.0000, -2.8585,  0.0000,  0.0000,\n",
       "          0.0000,  0.0000, -0.5215,  0.0000,  0.0000],\n",
       "        [ 0.0000,  0.0000,  0.0000, -0.2605,  0.0000,  0.0000,  0.0000,  0.0000,\n",
       "          0.0000,  0.0000,  0.0000,  0.0000,  0.0000, -2.5976,  0.0000,  0.0000,\n",
       "          0.0000,  0.0000,  0.0000,  0.0000,  0.0000],\n",
       "        [ 0.0000,  0.0000,  0.0000,  0.0000,  0.0000,  0.0000,  0.0000,  0.0000,\n",
       "          0.0000,  0.0000,  0.0000, -0.3433,  0.0000, -2.2393,  0.0000,  0.0000,\n",
       "          0.0000,  0.0000,  0.0000,  0.0000,  0.0000],\n",
       "        [ 0.0000, -0.3433,  0.0000,  0.0000,  0.0000,  0.0000,  0.0000,  0.0000,\n",
       "          0.0000,  0.0000,  0.0000,  0.0000,  0.0000,  0.0000,  0.0000,  0.0000,\n",
       "          0.0000,  0.0000, -2.2393,  0.0000,  0.0000],\n",
       "        [ 0.0000,  0.0000,  0.0000,  0.0000,  0.0000,  0.0000,  0.0000,  0.0000,\n",
       "          0.0000,  0.0000,  0.0000,  0.0000,  0.0000,  0.0000,  0.0000,  0.0000,\n",
       "          0.0000,  0.0000,  0.0000,  0.0000,  0.0000]])"
      ]
     },
     "execution_count": 174,
     "metadata": {},
     "output_type": "execute_result"
    }
   ],
   "source": []
  },
  {
   "cell_type": "code",
   "execution_count": 201,
   "id": "f1248404",
   "metadata": {
    "scrolled": true
   },
   "outputs": [
    {
     "name": "stdout",
     "output_type": "stream",
     "text": [
      "3 tensor(0.0788) tensor(0.2889)\n",
      "13 tensor(0.8423) tensor(0.4975)\n",
      "18 tensor(0.0788) tensor(0.7864)\n",
      "24 tensor(0.1655) tensor(1.2159)\n",
      "34 tensor(0.1379) tensor(1.6100)\n",
      "39 tensor(0.6967) tensor(1.9733)\n"
     ]
    }
   ],
   "source": [
    "s = 0\n",
    "for idx, x in enumerate(list(nf[2]) + list(nf[3])):\n",
    "  if x > 1e-10:\n",
    "    s -= x * x.log2()\n",
    "    print(idx,x,s)"
   ]
  },
  {
   "cell_type": "code",
   "execution_count": 205,
   "id": "3f302937",
   "metadata": {},
   "outputs": [
    {
     "data": {
      "text/plain": [
       "tensor(0.8621)"
      ]
     },
     "execution_count": 205,
     "metadata": {},
     "output_type": "execute_result"
    }
   ],
   "source": [
    "nf[3][18] + nf[3][3]"
   ]
  },
  {
   "cell_type": "code",
   "execution_count": 206,
   "id": "41351542",
   "metadata": {},
   "outputs": [
    {
     "data": {
      "text/plain": [
       "tensor([0.0000, 0.0000, 0.0000, 0.1655, 0.0000, 0.0000, 0.0000, 0.0000, 0.0000,\n",
       "        0.0000, 0.0000, 0.0000, 0.0000, 0.1379, 0.0000, 0.0000, 0.0000, 0.0000,\n",
       "        0.6967, 0.0000, 0.0000])"
      ]
     },
     "execution_count": 206,
     "metadata": {},
     "output_type": "execute_result"
    }
   ],
   "source": [
    "nf[3]"
   ]
  },
  {
   "cell_type": "markdown",
   "id": "2157535d",
   "metadata": {},
   "source": [
    "look why our normalized frequencies `nf` are different to mmseqs, especially at position `f[3]`/`nf[3]`."
   ]
  },
  {
   "cell_type": "code",
   "execution_count": null,
   "id": "1c1c63a2",
   "metadata": {},
   "outputs": [],
   "source": []
  }
 ],
 "metadata": {
  "kernelspec": {
   "display_name": "Python 3 (ipykernel)",
   "language": "python",
   "name": "python3"
  },
  "language_info": {
   "codemirror_mode": {
    "name": "ipython",
    "version": 3
   },
   "file_extension": ".py",
   "mimetype": "text/x-python",
   "name": "python",
   "nbconvert_exporter": "python",
   "pygments_lexer": "ipython3",
   "version": "3.10.5"
  }
 },
 "nbformat": 4,
 "nbformat_minor": 5
}
