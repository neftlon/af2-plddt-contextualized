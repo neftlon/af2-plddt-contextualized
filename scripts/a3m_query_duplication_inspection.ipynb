{
 "cells": [
  {
   "cell_type": "code",
   "execution_count": 1,
   "metadata": {
    "collapsed": true
   },
   "outputs": [],
   "source": [
    "from pathlib import Path\n",
    "from pprint import pprint\n",
    "from operator import itemgetter"
   ]
  },
  {
   "cell_type": "code",
   "execution_count": 2,
   "outputs": [
    {
     "name": "stdout",
     "output_type": "stream",
     "text": [
      "['>A0A0A0MRZ7',\n",
      " 'MRLPAQLLGLLMLWVPGSSAEIVMTQTPLSLSITPGEQASMSCRSSQSLLHSDGYTYLYWFLQKARPVSTLLIYEVSNRFSGVPDRFSGSGSGTDFTLKISRVEAEDFGVYYCMQDAQDP',\n",
      " '>A0A5F4VXN5\\t154\\t0.841\\t3.030E-40\\t0\\t119\\t120\\t0\\t119\\t152',\n",
      " 'MRLPAQLLGLLMLWVPGSSGDIVMTQTPLSLSITPGEPASISCRSSQSLLHSDGNTYLYWYLQKPGQSPQLLIYWASNRFSGVPDRFSGSGSGTDFTLKISKVEAEDVGVYYCMQGIQYP']\n"
     ]
    }
   ],
   "source": [
    "# take an example protein file from AlphaFold DB human\n",
    "lines = Path(\"../data/A0A0A0MRZ7.a3m\").read_text().splitlines()\n",
    "pprint(lines[:4])"
   ],
   "metadata": {
    "collapsed": false
   }
  },
  {
   "cell_type": "code",
   "execution_count": 3,
   "outputs": [
    {
     "data": {
      "text/plain": "['A0A0A0MRZ7',\n 'A0A5F4VXN5',\n 'A0A2K5QHW6',\n 'H0WN68',\n 'A0A6G1ALU7',\n 'D2HJ92',\n 'UPI000579C5AF',\n 'A0A2K6LAP9',\n 'A0A2K5LXG6',\n 'A0A667IGU8']"
     },
     "execution_count": 3,
     "metadata": {},
     "output_type": "execute_result"
    }
   ],
   "source": [
    "# extract UniProt IDs as they appear in the .a3m file, which is every other line\n",
    "id_lines = lines[::2]\n",
    "ids = [line.split()[0][1:] for line in id_lines]\n",
    "ids[:10]"
   ],
   "metadata": {
    "collapsed": false
   }
  },
  {
   "cell_type": "code",
   "execution_count": 4,
   "outputs": [
    {
     "name": "stdout",
     "output_type": "stream",
     "text": [
      "linenum=1 of 19694 lines\n",
      ">A0A0A0MRZ7\n",
      "MRLPAQLLGLLMLWVPGSSAEIVMTQTPLSLSITPGEQASMSCRSSQSLLHSDGYTYLYWFLQKARPVSTLLIYEVSNRFSGVPDRFSGSGSGTDFTLKISRVEAEDFGVYYCMQDAQDP\n",
      "\n",
      "linenum=109 of 19694 lines\n",
      ">A0A0A0MRZ7\t146\t1.00\t2.311E-37\t0\t119\t120\t0\t119\t120\n",
      "MRLPAQLLGLLMLWVPGSSAEIVMTQTPLSLSITPGEQASMSCRSSQSLLHSDGYTYLYWFLQKARPVSTLLIYEVSNRFSGVPDRFSGSGSGTDFTLKISRVEAEDFGVYYCMQDAQDP\n",
      "\n",
      "linenum=16497 of 19694 lines\n",
      ">A0A0A0MRZ7\n",
      "MRLPAQLLGLLMLWVPGSSAEIVMTQTPLSLSITPGEQASMSCRSSQSLLHSDGYTYLYWFLQKARPVSTLLIYEVSNRFSGVPDRFSGSGSGTDFTLKISRVEAEDFGVYYCMQDAQDP\n",
      "\n"
     ]
    }
   ],
   "source": [
    "# find where query appears multiple times\n",
    "query = id_lines[0][1:]\n",
    "matches = sorted([(idx+1, line, lines[idx+1]) for idx, line in enumerate(lines[:-1]) if line[1:].startswith(query)], key=itemgetter(0))\n",
    "for linenum, hdr, seq in matches:\n",
    "    print(f\"{linenum=} of {len(lines)} lines\", hdr, seq, \"\", sep=\"\\n\")"
   ],
   "metadata": {
    "collapsed": false
   }
  }
 ],
 "metadata": {
  "kernelspec": {
   "display_name": "Python 3",
   "language": "python",
   "name": "python3"
  },
  "language_info": {
   "codemirror_mode": {
    "name": "ipython",
    "version": 2
   },
   "file_extension": ".py",
   "mimetype": "text/x-python",
   "name": "python",
   "nbconvert_exporter": "python",
   "pygments_lexer": "ipython2",
   "version": "2.7.6"
  }
 },
 "nbformat": 4,
 "nbformat_minor": 0
}
