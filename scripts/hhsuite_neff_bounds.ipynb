{
 "cells": [
  {
   "cell_type": "code",
   "execution_count": 16,
   "metadata": {},
   "outputs": [
    {
     "name": "stdout",
     "output_type": "stream",
     "text": [
      "[0.05 0.05 0.05 0.05 0.05 0.05 0.05 0.05 0.05 0.05 0.05 0.05 0.05 0.05\n",
      " 0.05 0.05 0.05 0.05 0.05 0.05]\n",
      "[9.99e-01 5.00e-05 5.00e-05 5.00e-05 5.00e-05 5.00e-05 5.00e-05 5.00e-05\n",
      " 5.00e-05 5.00e-05 5.00e-05 5.00e-05 5.00e-05 5.00e-05 5.00e-05 5.00e-05\n",
      " 5.00e-05 5.00e-05 5.00e-05 5.00e-05]\n"
     ]
    }
   ],
   "source": [
    "# Ali_M(i) is exp of the average sequence entropy over all columns of the subalignment.\n",
    "# sum_(a=1)^20 f_a*log(f_a) ￿ 16\n",
    "from math import log, exp\n",
    "import math\n",
    "import numpy as np\n",
    "\n",
    "n_aa = 20\n",
    "f_b = np.zeros(n_aa)\n",
    "f_c = np.zeros(n_aa)\n",
    "f_b[:] = 1/n_aa\n",
    "f_c[0] = 0.999\n",
    "f_c[1:] = (1 - f_c[0]) / n_aa\n",
    "\n",
    "print(f_b)\n",
    "print(f_c)"
   ]
  },
  {
   "cell_type": "code",
   "execution_count": null,
   "metadata": {},
   "outputs": [],
   "source": []
  },
  {
   "cell_type": "code",
   "execution_count": 17,
   "metadata": {},
   "outputs": [
    {
     "name": "stdout",
     "output_type": "stream",
     "text": [
      "4.321928094887363\n",
      "1.3010299956639808\n",
      "2.995732273553991\n"
     ]
    }
   ],
   "source": [
    "s_2 = 0\n",
    "s_10 = 0\n",
    "s_e = 0\n",
    "\n",
    "for f in f_b:\n",
    "    s_2 += - f * log(f, 2)\n",
    "    s_10  += - f * log(f, 10)\n",
    "    s_e += - f * log(f)\n",
    "print(\"\\n\".join((str(s_2), str(s_10), str(s_e))))"
   ]
  },
  {
   "cell_type": "code",
   "execution_count": 18,
   "metadata": {},
   "outputs": [
    {
     "name": "stdout",
     "output_type": "stream",
     "text": [
      "75.33373895042536\n",
      "3.6730779743072013\n",
      "19.999999999999996\n"
     ]
    }
   ],
   "source": [
    "print(exp(s_2))\n",
    "print(exp(s_10))\n",
    "print(exp(s_e))"
   ]
  },
  {
   "cell_type": "code",
   "execution_count": 14,
   "metadata": {},
   "outputs": [],
   "source": [
    "# Looks like the right version is the one with log base e and abs before exp:\n",
    "# exp(avg(sum_(a=1)^20 f_a*log(f_a)))"
   ]
  },
  {
   "cell_type": "code",
   "execution_count": 19,
   "metadata": {},
   "outputs": [
    {
     "name": "stdout",
     "output_type": "stream",
     "text": [
      "0.015015300213371038\n",
      "0.004520055758124458\n",
      "0.010407813008159282\n"
     ]
    }
   ],
   "source": [
    "s_2 = 0\n",
    "s_10 = 0\n",
    "s_e = 0\n",
    "\n",
    "for f in f_c:\n",
    "    s_2 += - f * log(f, 2)\n",
    "    s_10  += - f * log(f, 10)\n",
    "    s_e += - f * log(f)\n",
    "print(\"\\n\".join((str(s_2), str(s_10), str(s_e))))"
   ]
  },
  {
   "cell_type": "code",
   "execution_count": 20,
   "metadata": {},
   "outputs": [
    {
     "name": "stdout",
     "output_type": "stream",
     "text": [
      "-0.0\n",
      "-0.0\n",
      "-0.0\n"
     ]
    }
   ],
   "source": [
    "s_2 = - 1 * log(1, 2)\n",
    "s_10 = - 1 * log(1, 10)\n",
    "s_e = - 1 * log(1)\n",
    "\n",
    "print(\"\\n\".join((str(s_2), str(s_10), str(s_e))))"
   ]
  },
  {
   "cell_type": "code",
   "execution_count": null,
   "metadata": {},
   "outputs": [],
   "source": []
  }
 ],
 "metadata": {
  "kernelspec": {
   "display_name": "Python 3 (ipykernel)",
   "language": "python",
   "name": "python3"
  },
  "language_info": {
   "codemirror_mode": {
    "name": "ipython",
    "version": 3
   },
   "file_extension": ".py",
   "mimetype": "text/x-python",
   "name": "python",
   "nbconvert_exporter": "python",
   "pygments_lexer": "ipython3",
   "version": "3.10.6"
  }
 },
 "nbformat": 4,
 "nbformat_minor": 2
}
