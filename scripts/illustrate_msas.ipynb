{
 "cells": [
  {
   "cell_type": "code",
   "execution_count": 1,
   "id": "f36bbbb3",
   "metadata": {},
   "outputs": [],
   "source": [
    "import subprocess as sp\n",
    "import json\n",
    "import matplotlib.pyplot as plt"
   ]
  },
  {
   "cell_type": "code",
   "execution_count": 16,
   "id": "a01dd3b2",
   "metadata": {},
   "outputs": [
    {
     "name": "stdout",
     "output_type": "stream",
     "text": [
      "20600 gapcount scores loaded\n"
     ]
    }
   ],
   "source": [
    "# load gap count scores\n",
    "with open(f\"../data/UP000005640_9606_gapcount.json\") as f:\n",
    "    gapcounts = json.load(f)\n",
    "print(len(gapcounts), \"gapcount scores loaded\")"
   ]
  },
  {
   "cell_type": "code",
   "execution_count": 17,
   "id": "cc5a6976",
   "metadata": {},
   "outputs": [
    {
     "name": "stdout",
     "output_type": "stream",
     "text": [
      "18741 neff scores loaded\n"
     ]
    }
   ],
   "source": [
    "# load Neff scores\n",
    "with open(f\"../data/UP000005640_9606_neff_fast.json\") as f:\n",
    "    neffs = json.load(f)\n",
    "print(len(neffs), \"neff scores loaded\")"
   ]
  },
  {
   "cell_type": "code",
   "execution_count": 18,
   "id": "6cbf8964",
   "metadata": {},
   "outputs": [],
   "source": [
    "PROT_ID = \"Q3LI62\" # accession number of small example protein"
   ]
  },
  {
   "cell_type": "code",
   "execution_count": 19,
   "id": "f1ccde6b",
   "metadata": {},
   "outputs": [
    {
     "data": {
      "text/plain": [
       "['MSYYSHLSGGLGCGLAVAVTMGRTVAVAEYGRCRHGCHSSYSAR',\n",
       " 'MSYYSHLSGGLGCGLAVAVTMGRTVAVAEYGRCRHGCHSSHSAR',\n",
       " 'MSYYSHLSGDLGC-XAVAVAMGSTVSVGEXGRCRHGCHPSYSAR',\n",
       " '-----------------AVAVGMTVTVTEYGRCRHGCHPSCSAR',\n",
       " 'MSYYSHLS-------AVAVAMGS--------RCRHGCHPSYSAR',\n",
       " 'MSYYSHLSGGLGCGLAVAVTMGRTVAVAEYGRCRHGCHSSYSAR',\n",
       " 'MSYYSHLSGGLGCGLAVAVTMGRTVAVAEYGRCRHGCHSSYSAR',\n",
       " '--------GGLGCGYAWAVAMGRTVAVAEYGRCGHGCQPSCSAR',\n",
       " 'MSYYSHLS-------AVAVAMG--------SRCRHGCHPSYSAR']"
      ]
     },
     "execution_count": 19,
     "metadata": {},
     "output_type": "execute_result"
    }
   ],
   "source": [
    "# extract MSA\n",
    "PROTEOME_FILE = \"../data/UP000005640_9606.tar\"\n",
    "FILENAME = f\"UP000005640_9606/msas/{PROT_ID}.a3m\"\n",
    "msa = sp.run(f\"tar -xOf {PROTEOME_FILE} {FILENAME}\", check=True, shell=True, capture_output=True)\n",
    "msa = msa.stdout.decode()\n",
    "seqs = msa.split(\"\\n\")[1::2]\n",
    "seqs"
   ]
  },
  {
   "cell_type": "code",
   "execution_count": 21,
   "id": "4ed6c472",
   "metadata": {},
   "outputs": [],
   "source": [
    "assert PROT_ID in gapcounts\n",
    "assert PROT_ID in neffs"
   ]
  },
  {
   "cell_type": "code",
   "execution_count": 24,
   "id": "98ee5147",
   "metadata": {},
   "outputs": [
    {
     "data": {
      "text/plain": [
       "(44, 44)"
      ]
     },
     "execution_count": 24,
     "metadata": {},
     "output_type": "execute_result"
    }
   ],
   "source": [
    "gapcount = gapcounts[PROT_ID]\n",
    "neff = neffs[PROT_ID]\n",
    "len(gapcount), len(neff)"
   ]
  },
  {
   "cell_type": "code",
   "execution_count": 31,
   "id": "caab44fd",
   "metadata": {},
   "outputs": [
    {
     "data": {
      "text/plain": [
       "([6, 6, 6, 6, 6, 6, 6, 6, 5, 5, 5, 5, 5, 4, 5, 7, 7, 8, 8, 8],\n",
       " [3, 3, 3, 3, 3, 3, 3, 3, 3, 3, 3, 3, 3, 2, 3, 4, 4, 5, 5, 5])"
      ]
     },
     "execution_count": 31,
     "metadata": {},
     "output_type": "execute_result"
    }
   ],
   "source": [
    "gapcount[:20], [int(s) for s in neff][:20]"
   ]
  },
  {
   "cell_type": "code",
   "execution_count": 43,
   "id": "2462c778",
   "metadata": {},
   "outputs": [
    {
     "data": {
      "image/png": "[encoded data removed]",
      "text/plain": [
       "<Figure size 600x200 with 1 Axes>"
      ]
     },
     "metadata": {},
     "output_type": "display_data"
    }
   ],
   "source": [
    "plt.figure(figsize=(6,2))\n",
    "plt.plot(gapcount, label=\"# of non-gaps\")\n",
    "plt.plot(neff, label=\"neff\")\n",
    "plt.grid()\n",
    "plt.ylabel(\"score\")\n",
    "plt.xlabel(\"residue index\")\n",
    "plt.legend(loc=\"lower right\");"
   ]
  },
  {
   "cell_type": "code",
   "execution_count": 52,
   "id": "4d878f75",
   "metadata": {},
   "outputs": [
    {
     "name": "stdout",
     "output_type": "stream",
     "text": [
      " query:  MSYYSHLSGGLGCGLAVAVTMGRTVAVAEYGRCRHGCHSSYSAR\n",
      "match 0: MSYYSHLSGGLGCGLAVAVTMGRTVAVAEYGRCRHGCHSSHSAR\n",
      "match 1: MSYYSHLSGDLGC-XAVAVAMGSTVSVGEXGRCRHGCHPSYSAR\n",
      "match 2: -----------------AVAVGMTVTVTEYGRCRHGCHPSCSAR\n",
      "match 3: MSYYSHLS-------AVAVAMGS--------RCRHGCHPSYSAR\n",
      "match 4: MSYYSHLSGGLGCGLAVAVTMGRTVAVAEYGRCRHGCHSSYSAR\n",
      "match 5: MSYYSHLSGGLGCGLAVAVTMGRTVAVAEYGRCRHGCHSSYSAR\n",
      "match 6: --------GGLGCGYAWAVAMGRTVAVAEYGRCGHGCQPSCSAR\n",
      "match 7: MSYYSHLS-------AVAVAMG--------SRCRHGCHPSYSAR\n"
     ]
    }
   ],
   "source": [
    "print(\" query: \", seqs[0])\n",
    "for idx, seq in enumerate(seqs[1:]):\n",
    "  print(f\"match {idx:1}:\", seq)"
   ]
  },
  {
   "cell_type": "code",
   "execution_count": 55,
   "id": "2508be35",
   "metadata": {},
   "outputs": [
    {
     "name": "stdout",
     "output_type": "stream",
     "text": [
      "MSYYSHLSGGLGCGLAVAVTMGRTVAVAEYGRCRHGCHSSYSAR\n",
      "MSYYSHLSGGLGCGLAVAVTMGRTVAVAEYGRCRHGCHSSHSAR\n",
      "MSYYSHLSGDLGC-XAVAVAMGSTVSVGEXGRCRHGCHPSYSAR\n",
      "-----------------AVAVGMTVTVTEYGRCRHGCHPSCSAR\n",
      "MSYYSHLS-------AVAVAMGS--------RCRHGCHPSYSAR\n",
      "MSYYSHLSGGLGCGLAVAVTMGRTVAVAEYGRCRHGCHSSYSAR\n",
      "MSYYSHLSGGLGCGLAVAVTMGRTVAVAEYGRCRHGCHSSYSAR\n",
      "--------GGLGCGYAWAVAMGRTVAVAEYGRCGHGCQPSCSAR\n",
      "MSYYSHLS-------AVAVAMG--------SRCRHGCHPSYSAR\n"
     ]
    }
   ],
   "source": [
    "print(\"\\n\".join(seqs))"
   ]
  },
  {
   "cell_type": "code",
   "execution_count": null,
   "id": "cb9706f8",
   "metadata": {},
   "outputs": [],
   "source": []
  }
 ],
 "metadata": {
  "kernelspec": {
   "display_name": "Python 3 (ipykernel)",
   "language": "python",
   "name": "python3"
  },
  "language_info": {
   "codemirror_mode": {
    "name": "ipython",
    "version": 3
   },
   "file_extension": ".py",
   "mimetype": "text/x-python",
   "name": "python",
   "nbconvert_exporter": "python",
   "pygments_lexer": "ipython3",
   "version": "3.10.5"
  }
 },
 "nbformat": 4,
 "nbformat_minor": 5
}
